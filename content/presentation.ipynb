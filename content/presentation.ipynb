{
  "metadata": {
    "orig_nbformat": 4,
    "language_info": {
      "codemirror_mode": {
        "name": "python",
        "version": 3
      },
      "file_extension": ".py",
      "mimetype": "text/x-python",
      "name": "python",
      "nbconvert_exporter": "python",
      "pygments_lexer": "ipython3",
      "version": "3.8"
    },
    "kernelspec": {
      "name": "python",
      "display_name": "Pyolite",
      "language": "python"
    }
  },
  "nbformat_minor": 4,
  "nbformat": 4,
  "cells": [
    {
      "cell_type": "markdown",
      "source": "<br><br><br><br><br><br><br><br><br><br><br><br><br><br><br><br><br><br><br><br><br><br><br><br><br><br><br><br><br><br><br><br><br><br><br><br>",
      "metadata": {}
    },
    {
      "cell_type": "markdown",
      "source": "<p style=\"text-align: center\">\n    <img src=\"https://user-images.githubusercontent.com/591645/138829924-ea536fd4-2352-4214-8691-a80cd87cef2c.png\">\n</p>\n<h2 style=\"text-align: center\">JupyterLite: Jupyter ❤️ WebAssembly ❤️ Python</h2>\n<h2 style=\"text-align: center\">PyData Global 2021 - 2021-10-28</h2>\n<h3 style=\"text-align: center\"><a href=\"https://github.com/jupyterlite/jupyterlite\">https://github.com/jupyterlite/jupyterlite</a></h3>\n\n---\n\n<h4 style=\"text-align: center\">Nicholas Bollweg - <a href=\"https://github.com/bollwyvl\">@bollwyvl</a></h4>\n<h4 style=\"text-align: center\">Martin Renou - <a href=\"https://twitter.com/martinRenou\">@martinRenou</a></h4>\n<h4 style=\"text-align: center\">Madhur Tandon - <a href=\"https://twitter.com/mad_tandon\">@mad_tandon</a></h4>\n<h4 style=\"text-align: center\">Jeremy Tuloup - <a href=\"https://twitter.com/jtpio\">@jtpio</a></h4>",
      "metadata": {
        "tags": []
      }
    },
    {
      "cell_type": "code",
      "source": "print('Hello World!')",
      "metadata": {
        "trusted": true
      },
      "execution_count": null,
      "outputs": []
    },
    {
      "cell_type": "markdown",
      "source": "<br><br><br><br><br><br><br><br><br><br><br><br><br><br><br><br><br><br><br><br><br><br><br><br><br><br><br><br><br><br><br><br><br><br><br><br>",
      "metadata": {}
    },
    {
      "cell_type": "markdown",
      "source": "# Browser-based Interactive Computing",
      "metadata": {}
    },
    {
      "cell_type": "code",
      "source": "1 + 1",
      "metadata": {
        "trusted": true
      },
      "execution_count": 1,
      "outputs": [
        {
          "execution_count": 1,
          "output_type": "execute_result",
          "data": {
            "text/plain": "2"
          },
          "metadata": {}
        }
      ]
    },
    {
      "cell_type": "code",
      "source": "import this",
      "metadata": {
        "trusted": true
      },
      "execution_count": 2,
      "outputs": [
        {
          "event": "stream",
          "name": "stdout",
          "parentHeader": {
            "date": "2021-06-04T12:15:28.293Z",
            "msg_id": "c2015a04-6f23-4eca-a26f-84fe57a7ca12",
            "msg_type": "execute_request",
            "session": "6a29ab59-10ec-4b00-9ca6-e3f4e727f4b6",
            "username": "",
            "version": "5.2"
          },
          "text": "The Zen of Python, by Tim Peters\n\nBeautiful is better than ugly.\nExplicit is better than implicit.\nSimple is better than complex.\nComplex is better than complicated.\nFlat is better than nested.\nSparse is better than dense.\nReadability counts.\nSpecial cases aren't special enough to break the rules.\nAlthough practicality beats purity.\nErrors should never pass silently.\nUnless explicitly silenced.\nIn the face of ambiguity, refuse the temptation to guess.\nThere should be one-- and preferably only one --obvious way to do it.\nAlthough that way may not be obvious at first unless you're Dutch.\nNow is better than never.\nAlthough never is often better than *right* now.\nIf the implementation is hard to explain, it's a bad idea.\nIf the implementation is easy to explain, it may be a good idea.\nNamespaces are one honking great idea -- let's do more of those!\n",
          "output_type": "stream"
        }
      ]
    },
    {
      "cell_type": "code",
      "source": "import sys\nprint('boom', file=sys.stderr)",
      "metadata": {
        "trusted": true
      },
      "execution_count": 3,
      "outputs": [
        {
          "event": "stream",
          "name": "stderr",
          "parentHeader": {
            "date": "2021-06-04T12:15:28.442Z",
            "msg_id": "4ac6d7af-95bf-4dee-ac5c-a364cfb40d35",
            "msg_type": "execute_request",
            "session": "6a29ab59-10ec-4b00-9ca6-e3f4e727f4b6",
            "username": "",
            "version": "5.2"
          },
          "text": "boom\n",
          "output_type": "stream"
        }
      ]
    },
    {
      "cell_type": "markdown",
      "source": "<br><br><br><br><br><br><br><br><br><br><br><br><br><br><br><br><br><br><br><br><br><br><br><br><br><br><br><br><br><br><br><br><br><br><br><br>",
      "metadata": {}
    },
    {
      "cell_type": "markdown",
      "source": "## History\n\n### Jyve\n\n![image](https://user-images.githubusercontent.com/591645/120651123-b8c87380-c47e-11eb-92dc-91577794544b.png)\n\n### p5 Notebook\n\n![p5-notebook](https://raw.githubusercontent.com/jtpio/p5-notebook/e2ce096b2061e2a20b08d1e2e49de00d93055a5a/screenshot.png)\n\n### Basthon\n\n![image](https://user-images.githubusercontent.com/591645/120651295-eb726c00-c47e-11eb-99c6-4a72f90e3bc2.png)\n\n### Starboard\n\n![image](https://user-images.githubusercontent.com/591645/120651446-1492fc80-c47f-11eb-91aa-8b891832d921.png)\n\n### Observable\n\n![image](https://user-images.githubusercontent.com/591645/120678237-2fbe3600-c498-11eb-8654-d521afa8c311.png)",
      "metadata": {
        "tags": []
      }
    },
    {
      "cell_type": "markdown",
      "source": "<br><br><br><br><br><br><br><br><br><br><br><br><br><br><br><br><br><br><br><br><br><br><br><br><br><br><br><br><br><br><br><br><br><br><br><br>",
      "metadata": {}
    },
    {
      "cell_type": "markdown",
      "source": "# Browser-based Interactive Computing\n\n- Python kernel backed by [Pyodide](https://pyodide.org) running in a Web Worker\n- JavaScript kernel running in an `IFrame`\n- Combine Offline Notebook storage in browser `localStorage` or `IndexedDB` with example files\n- Support for saving settings for JupyterLab/Lite core and federated extensions\n- Session and kernel management to have multiple kernels running on the page at the same time\n- Support for [Code Consoles](https://jupyterlab.readthedocs.io/en/stable/user/code_console.html)\n- Built-in JupyterLab Themes and third-party (prebuilt) themes\n- Initial support for visualization libraries such as `matplotlib` and `altair`\n\n## ✨ Demo: https://jupyterlite.rtfd.io/en/latest/try/lab ✨",
      "metadata": {}
    },
    {
      "cell_type": "markdown",
      "source": "<br><br><br><br><br><br><br><br><br><br><br><br><br><br><br><br><br><br><br><br><br><br><br><br><br><br><br><br><br><br><br><br><br><br><br><br>",
      "metadata": {}
    },
    {
      "cell_type": "markdown",
      "source": "## Boots in seconds\n\nUseful to quickly try something out.\n\n**Examples**\n\n- https://jupyterlite.rtfd.io/en/latest/try/lab (Read The Docs), from https://github.com/jupyterlite/jupyterlite\n- https://jupyterlite.github.io/demo (GitHub Pages), from https://github.com/jupyterlite/demo\n\n![boots-seconds](https://user-images.githubusercontent.com/591645/120649478-18258400-c47d-11eb-80e5-185e52ff2702.gif)",
      "metadata": {}
    },
    {
      "cell_type": "markdown",
      "source": "<br><br><br><br><br><br><br><br><br><br><br><br><br><br><br><br><br><br><br><br><br><br><br><br><br><br><br><br><br><br><br><br><br><br><br><br>",
      "metadata": {}
    },
    {
      "cell_type": "markdown",
      "source": "# Features",
      "metadata": {}
    },
    {
      "cell_type": "markdown",
      "source": "## Pyolite, the Python kernel powered by Pyodide, is shipped by default",
      "metadata": {}
    },
    {
      "cell_type": "markdown",
      "source": "## IPython",
      "metadata": {}
    },
    {
      "cell_type": "markdown",
      "source": "## Reuse existing JupyterLab extensions\n\n- demo JupyterLab DrawIO",
      "metadata": {}
    },
    {
      "cell_type": "markdown",
      "source": "## Jupyter Widgets\n\n- ipywidgets\n- bqplot\n- ipycanvas",
      "metadata": {}
    },
    {
      "cell_type": "markdown",
      "source": "## Interactive visualizations",
      "metadata": {}
    },
    {
      "cell_type": "markdown",
      "source": "## Multiple kernels\n\n- show we can use multiple kernels on the page with JupyterLab (running tab)",
      "metadata": {}
    },
    {
      "cell_type": "markdown",
      "source": "<br><br><br><br><br><br><br><br><br><br><br><br><br><br><br><br><br><br><br><br><br><br><br><br><br><br><br><br><br><br><br><br><br><br><br><br>",
      "metadata": {}
    },
    {
      "cell_type": "markdown",
      "source": "# Extending JupyterLite",
      "metadata": {}
    },
    {
      "cell_type": "markdown",
      "source": "## The server is a plugin based as a Lumino application\n\n- The server is a plugin based as a Lumino application\n- JupyterLite can be customized with server extensions\n  - new kernels\n  - different contents managers\n  - remote kernels\n\n\n\n![jupyterlite-diagram](https://user-images.githubusercontent.com/591645/120672355-858fdf80-c492-11eb-9613-67ad0411de25.png)",
      "metadata": {}
    },
    {
      "cell_type": "markdown",
      "source": "<br><br><br><br><br><br><br><br><br><br><br><br><br><br><br><br><br><br><br><br><br><br><br><br><br><br><br><br><br><br><br><br><br><br><br><br>",
      "metadata": {}
    },
    {
      "cell_type": "markdown",
      "source": "## Real Time Collaboration via WebRTC\n\n![rtc-retro-lab](https://user-images.githubusercontent.com/591645/120653630-2b3a5300-c481-11eb-8c66-eeaa3674cbb1.gif)",
      "metadata": {}
    },
    {
      "cell_type": "markdown",
      "source": "<br><br><br><br><br><br><br><br><br><br><br><br><br><br><br><br><br><br><br><br><br><br><br><br><br><br><br><br><br><br><br><br><br><br><br><br>",
      "metadata": {}
    },
    {
      "cell_type": "markdown",
      "source": "# Xeus powered kernels with WebAssembly \n\n- Blog post: https://blog.jupyter.org/xeus-lite-379e96bb199d\n- Demo:\n  - xeus-lua\n  - xeus-wren\n  - xcanvas?",
      "metadata": {}
    },
    {
      "cell_type": "markdown",
      "source": "<br><br><br><br><br><br><br><br><br><br><br><br><br><br><br><br><br><br><br><br><br><br><br><br><br><br><br><br><br><br><br><br><br><br><br><br>",
      "metadata": {}
    },
    {
      "cell_type": "markdown",
      "source": "# Use Cases",
      "metadata": {
        "tags": []
      }
    },
    {
      "cell_type": "markdown",
      "source": "<br><br><br><br><br><br><br><br><br><br><br><br><br><br><br><br><br><br><br><br><br><br><br><br><br><br><br><br><br><br><br><br><br><br><br><br>",
      "metadata": {}
    },
    {
      "cell_type": "markdown",
      "source": "## Lightweight Jupyter Frontend running in the browser\n\n  - no server\n  - no command line\n  - no dependency management\n  \n ",
      "metadata": {}
    },
    {
      "cell_type": "markdown",
      "source": "<br><br><br><br><br><br><br><br><br><br><br><br><br><br><br><br><br><br><br><br><br><br><br><br><br><br><br><br><br><br><br><br><br><br><br><br>",
      "metadata": {}
    },
    {
      "cell_type": "markdown",
      "source": "<br><br><br><br><br><br><br><br><br><br><br><br><br><br><br><br><br><br><br><br><br><br><br><br><br><br><br><br><br><br><br><br><br><br><br><br>",
      "metadata": {}
    },
    {
      "cell_type": "markdown",
      "source": "## Education\n\n### Easy access to computing environment without the trouble of installing anything\n\nFrom: https://twitter.com/DynamicWebPaige/status/1398346277038051335\n\n![jupyterlite-github-mockup](https://user-images.githubusercontent.com/591645/120650571-3475f080-c47e-11eb-8469-9cb93fb83e83.gif)",
      "metadata": {}
    },
    {
      "cell_type": "markdown",
      "source": "<br><br><br><br><br><br><br><br><br><br><br><br><br><br><br><br><br><br><br><br><br><br><br><br><br><br><br><br><br><br><br><br><br><br><br><br>",
      "metadata": {}
    },
    {
      "cell_type": "markdown",
      "source": "## Build your own static frontend\n\nMockup from: https://github.com/jtpio/jupyterlite/issues/41#issue-857897393\n\n![jupyterlite-exporter](https://user-images.githubusercontent.com/591645/120650685-53748280-c47e-11eb-93ef-9aee53f7231c.png)\n",
      "metadata": {}
    },
    {
      "cell_type": "markdown",
      "source": "<br><br><br><br><br><br><br><br><br><br><br><br><br><br><br><br><br><br><br><br><br><br><br><br><br><br><br><br><br><br><br><br><br><br><br><br>",
      "metadata": {}
    },
    {
      "cell_type": "markdown",
      "source": "## Deployment\n\nhttps://jupyterlite.readthedocs.io/en/latest/deploying.html\n\n<img width=256 src=\"https://user-images.githubusercontent.com/591645/120675034-00f29080-c495-11eb-928c-26bb94e8eb68.png\">\n\n---\n\n<img width=256 src=\"https://user-images.githubusercontent.com/591645/120676545-6dba5a80-c496-11eb-9b2b-604e92c3429b.png\">\n\n\n\n---\n\n<img width=256 src=\"https://user-images.githubusercontent.com/591645/120675516-6f375300-c495-11eb-819c-d6f1fb3cb0f1.png\">\n\n---\n\n<img width=256 src=\"https://user-images.githubusercontent.com/591645/120676108-03a1b580-c496-11eb-8990-ed30c7861376.png\">\n\n---\n\n<img width=256 src=\"https://user-images.githubusercontent.com/591645/120676313-2df37300-c496-11eb-8639-25e2fc606850.png\">\n\nAnd more: Netlify, nginx, Heroku...",
      "metadata": {}
    },
    {
      "cell_type": "markdown",
      "source": "<br><br><br><br><br><br><br><br><br><br><br><br><br><br><br><br><br><br><br><br><br><br><br><br><br><br><br><br><br><br><br><br><br><br><br><br>",
      "metadata": {}
    },
    {
      "cell_type": "markdown",
      "source": "# Up Next\n\n➡️ **MVP Project on GitHub**: https://github.com/jtpio/jupyterlite/projects/1\n\n## Improved tooling\n\n## Reducing the load on public services like mybinder.org\n\n## More xeus-based kernels\n\n## Improved Wasm package management with conda-forge",
      "metadata": {}
    },
    {
      "cell_type": "markdown",
      "source": "<br><br><br><br><br><br><br><br><br><br><br><br><br><br><br><br><br><br><br><br><br><br><br><br><br><br><br><br><br><br><br><br><br><br><br><br>",
      "metadata": {}
    },
    {
      "cell_type": "markdown",
      "source": "# Thanks!\n\n## Special thanks to all the contributors! ❤️",
      "metadata": {}
    }
  ]
}