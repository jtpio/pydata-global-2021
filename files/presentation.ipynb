{
 "cells": [
  {
   "cell_type": "markdown",
   "metadata": {
    "tags": []
   },
   "source": [
    "<p style=\"text-align: center\">\n",
    "    <img src=\"https://user-images.githubusercontent.com/591645/138829924-ea536fd4-2352-4214-8691-a80cd87cef2c.png\">\n",
    "</p>\n",
    "<h2 style=\"text-align: center\">JupyterLite: Jupyter ❤️ WebAssembly ❤️ Python</h2>\n",
    "<h2 style=\"text-align: center\">PyData Global 2021 - 2021-10-29</h2>\n",
    "<h3 style=\"text-align: center\"><a href=\"https://github.com/jupyterlite/jupyterlite\">https://github.com/jupyterlite/jupyterlite</a></h3>\n",
    "\n",
    "---\n",
    "\n",
    "<h4 style=\"text-align: center\">Thorsten Beier - <a href=\"https://twitter.com/ThorstenBeier\">@ThorstenBeier</a></h4>\n",
    "<h4 style=\"text-align: center\">Nicholas Bollweg - <a href=\"https://github.com/bollwyvl\">@bollwyvl</a></h4>\n",
    "<h4 style=\"text-align: center\">Martin Renou - <a href=\"https://twitter.com/martinRenou\">@martinRenou</a></h4>\n",
    "<h4 style=\"text-align: center\">Madhur Tandon - <a href=\"https://twitter.com/mad_tandon\">@mad_tandon</a></h4>\n",
    "<h4 style=\"text-align: center\">Jeremy Tuloup - <a href=\"https://twitter.com/jtpio\">@jtpio</a></h4>"
   ]
  },
  {
   "cell_type": "code",
   "execution_count": null,
   "metadata": {},
   "outputs": [],
   "source": [
    "print('Hello World!')"
   ]
  },
  {
   "cell_type": "markdown",
   "metadata": {},
   "source": [
    "<br><br><br><br><br><br><br><br><br><br><br><br><br><br><br><br><br><br><br><br><br><br><br><br><br><br><br><br><br><br><br><br><br><br><br><br>"
   ]
  },
  {
   "cell_type": "markdown",
   "metadata": {},
   "source": [
    "# Browser-based Interactive Computing"
   ]
  },
  {
   "cell_type": "code",
   "execution_count": null,
   "metadata": {},
   "outputs": [],
   "source": [
    "1 + 1"
   ]
  },
  {
   "cell_type": "code",
   "execution_count": null,
   "metadata": {},
   "outputs": [],
   "source": [
    "import this"
   ]
  },
  {
   "cell_type": "code",
   "execution_count": null,
   "metadata": {},
   "outputs": [],
   "source": [
    "import sys\n",
    "print('boom', file=sys.stderr)"
   ]
  },
  {
   "cell_type": "markdown",
   "metadata": {},
   "source": [
    "<br><br><br><br><br><br><br><br><br><br><br><br><br><br><br><br><br><br><br><br><br><br><br><br><br><br><br><br><br><br><br><br><br><br><br><br>"
   ]
  },
  {
   "cell_type": "markdown",
   "metadata": {
    "tags": []
   },
   "source": [
    "## History\n",
    "\n",
    "### Jyve, by Nicholas Bollweg\n",
    "\n",
    "<p style=\"text-align: center\">\n",
    "    <img src=\"https://user-images.githubusercontent.com/591645/120651123-b8c87380-c47e-11eb-92dc-91577794544b.png\" width=\"40%\">\n",
    "</p>\n",
    "\n",
    "### p5 notebook, by Jeremy Tuloup\n",
    "\n",
    "<p style=\"text-align: center\">\n",
    "    <img src=\"https://raw.githubusercontent.com/jtpio/p5-notebook/e2ce096b2061e2a20b08d1e2e49de00d93055a5a/screenshot.png\" width=\"40%\">\n",
    "</p>\n",
    "\n",
    "### Basthon, by Romain Casati\n",
    "\n",
    "<p style=\"text-align: center\">\n",
    "    <img src=\"https://user-images.githubusercontent.com/591645/120651295-eb726c00-c47e-11eb-99c6-4a72f90e3bc2.png\" width=\"40%\">\n",
    "</p>\n",
    "\n",
    "### Starboard, by Guido Zuidhof\n",
    "\n",
    "<p style=\"text-align: center\">\n",
    "    <img src=\"https://user-images.githubusercontent.com/591645/120651446-1492fc80-c47f-11eb-91aa-8b891832d921.png\" width=\"40%\">\n",
    "</p>\n",
    "\n",
    "### Observable, by Mike Bostock\n",
    "\n",
    "<p style=\"text-align: center\">\n",
    "    <img src=\"https://user-images.githubusercontent.com/591645/120678237-2fbe3600-c498-11eb-8654-d521afa8c311.png\" width=\"40%\">\n",
    "</p>"
   ]
  },
  {
   "cell_type": "markdown",
   "metadata": {},
   "source": [
    "<br><br><br><br><br><br><br><br><br><br><br><br><br><br><br><br><br><br><br><br><br><br><br><br><br><br><br><br><br><br><br><br><br><br><br><br>"
   ]
  },
  {
   "cell_type": "markdown",
   "metadata": {},
   "source": [
    "<p style=\"text-align: center\">\n",
    "    <img src=\"https://user-images.githubusercontent.com/591645/139147658-879ccdc4-d822-46e7-a1cb-c9297a96fe0e.png\" width=\"40%\">\n",
    "</p>"
   ]
  },
  {
   "cell_type": "markdown",
   "metadata": {},
   "source": [
    "<br><br><br><br><br><br><br><br><br><br><br><br><br><br><br><br><br><br><br><br><br><br><br><br><br><br><br><br><br><br><br><br><br><br><br><br>"
   ]
  },
  {
   "cell_type": "markdown",
   "metadata": {},
   "source": [
    "# JupyterLite and RetroLite\n",
    "\n",
    "- Combine Offline Notebook storage in browser (`localStorage` or `IndexedDB`) with server files\n",
    "- Support for saving settings for JupyterLab/Lite core and federated extensions\n",
    "- Session and kernel management to have multiple kernels running on the page at the same time\n",
    "- Support for [Code Consoles](https://jupyterlab.readthedocs.io/en/stable/user/code_console.html)\n",
    "- Additional display languages like French and Simplified Chinese\n",
    "- Built-in JupyterLab Themes and third-party (prebuilt) themes"
   ]
  },
  {
   "cell_type": "markdown",
   "metadata": {},
   "source": [
    "<br><br><br><br><br><br><br><br><br><br><br><br><br><br><br><br><br><br><br><br><br><br><br><br><br><br><br><br><br><br><br><br><br><br><br><br>"
   ]
  },
  {
   "cell_type": "markdown",
   "metadata": {},
   "source": [
    "## Boots in seconds\n",
    "\n",
    "Useful to quickly try something out.\n",
    "\n",
    "**Examples**\n",
    "\n",
    "- https://jupyterlite.rtfd.io/en/latest/try/lab (Read The Docs), from https://github.com/jupyterlite/jupyterlite\n",
    "- https://jupyterlite.github.io/demo (GitHub Pages), from https://github.com/jupyterlite/demo\n",
    "\n",
    "<p style=\"text-align: center\">\n",
    "    <img src=\"https://user-images.githubusercontent.com/591645/120649478-18258400-c47d-11eb-80e5-185e52ff2702.gif\" width=\"40%\">\n",
    "</p>"
   ]
  },
  {
   "cell_type": "markdown",
   "metadata": {},
   "source": [
    "<br><br><br><br><br><br><br><br><br><br><br><br><br><br><br><br><br><br><br><br><br><br><br><br><br><br><br><br><br><br><br><br><br><br><br><br>"
   ]
  },
  {
   "cell_type": "markdown",
   "metadata": {},
   "source": [
    "# Features"
   ]
  },
  {
   "cell_type": "markdown",
   "metadata": {},
   "source": [
    "## Pyolite, the Python kernel powered by Pyodide, is shipped by default"
   ]
  },
  {
   "cell_type": "code",
   "execution_count": null,
   "metadata": {},
   "outputs": [],
   "source": [
    "import pyolite\n",
    "pyolite.__version__"
   ]
  },
  {
   "cell_type": "markdown",
   "metadata": {},
   "source": [
    "## IPython\n",
    "\n",
    "TODO: create an example notebook focused on IPython. Or extend [pyolite.ipynb](./pyolite.ipynb)"
   ]
  },
  {
   "cell_type": "markdown",
   "metadata": {},
   "source": [
    "<br><br><br><br><br><br><br><br><br><br><br><br><br><br><br><br><br><br><br><br><br><br><br><br><br><br><br><br><br><br><br><br><br><br><br><br>"
   ]
  },
  {
   "cell_type": "markdown",
   "metadata": {},
   "source": [
    "## Interactive visualizations"
   ]
  },
  {
   "cell_type": "markdown",
   "metadata": {
    "tags": []
   },
   "source": [
    "### ➡️ [Plotly](./pyolite/plotly.ipynb)"
   ]
  },
  {
   "cell_type": "markdown",
   "metadata": {
    "tags": []
   },
   "source": [
    "### ➡️ [Altair](./pyolite/altair.ipynb)"
   ]
  },
  {
   "cell_type": "markdown",
   "metadata": {},
   "source": [
    "### ➡️ [Folium](./pyolite/folium.ipynb)"
   ]
  },
  {
   "cell_type": "markdown",
   "metadata": {},
   "source": [
    "### ➡️ [Matplotlib](./pyolite/matplotlib.ipynb)"
   ]
  },
  {
   "cell_type": "markdown",
   "metadata": {},
   "source": [
    "## GeoJSON"
   ]
  },
  {
   "cell_type": "code",
   "execution_count": null,
   "metadata": {},
   "outputs": [],
   "source": [
    "def GeoJSON(data):\n",
    "    bundle = {}\n",
    "    bundle['application/geo+json'] = data\n",
    "    bundle['text/plain'] = data\n",
    "    display(bundle, raw=True)\n",
    "    \n",
    "GeoJSON({\n",
    "  \"type\": \"Feature\",\n",
    "  \"geometry\": {\n",
    "    \"type\": \"Point\",\n",
    "    \"coordinates\": [125.6, 10.1]\n",
    "  },\n",
    "  \"properties\": {\n",
    "    \"name\": \"Dinagat Islands\"\n",
    "  }\n",
    "})"
   ]
  },
  {
   "cell_type": "markdown",
   "metadata": {},
   "source": [
    "<br><br><br><br><br><br><br><br><br><br><br><br><br><br><br><br><br><br><br><br><br><br><br><br><br><br><br><br><br><br><br><br><br><br><br><br>"
   ]
  },
  {
   "cell_type": "markdown",
   "metadata": {},
   "source": [
    "# Jupyter Widgets"
   ]
  },
  {
   "cell_type": "markdown",
   "metadata": {
    "tags": []
   },
   "source": [
    "## ➡️ [ipywidgets](./pyolite/interactive-widgets.ipynb)\n",
    "\n",
    "## ➡️ [ipycanvas](./pyolite/ipycanvas.ipynb)\n",
    "\n",
    "## ➡️ [ipyleaflet](./pyolite/ipyleaflet.ipynb)"
   ]
  },
  {
   "cell_type": "markdown",
   "metadata": {},
   "source": [
    "<br><br><br><br><br><br><br><br><br><br><br><br><br><br><br><br><br><br><br><br><br><br><br><br><br><br><br><br><br><br><br><br><br><br><br><br>"
   ]
  },
  {
   "cell_type": "markdown",
   "metadata": {},
   "source": [
    "<p style=\"text-align: center\">\n",
    "    <img src=\"https://user-images.githubusercontent.com/904752/139083996-d158fd29-c038-4370-8d39-20956c4510bf.png\" width=\"40%\">\n",
    "</p>\n",
    "\n",
    "# Xeus powered kernels with WebAssembly \n",
    "\n",
    "## Blog post: https://blog.jupyter.org/xeus-lite-379e96bb199d\n",
    "  \n",
    "## Xeus is C++ library for writing Jupyter kernels \n",
    ":\n",
    "<!-- ![xeus](https://user-images.githubusercontent.com/904752/139083259-da818973-da67-4fcf-bb73-dffccbb5cdf2.png) -->\n",
    "\n",
    "<!-- <p style=\"text-align: center\">\n",
    "    <img src=\"https://user-images.githubusercontent.com/904752/139082501-94e646e1-f852-4e50-bc8e-2d0f616216bf.png\" width=\"40%\">\n",
    "</p> -->\n",
    " \n",
    "<p style=\"text-align: center\">\n",
    "    <img src=\"https://user-images.githubusercontent.com/904752/139082506-55882dff-c5e1-412e-8e17-641a0b382061.png\" width=\"40%\">\n",
    "</p>\n",
    "\n"
   ]
  },
  {
   "cell_type": "markdown",
   "metadata": {},
   "source": [
    "<br><br><br><br><br><br><br><br><br><br><br><br><br><br><br><br><br><br><br><br><br><br><br><br><br><br><br><br><br><br><br><br><br><br><br><br>\n"
   ]
  },
  {
   "cell_type": "markdown",
   "metadata": {},
   "source": [
    "# Xeus\n",
    " \n",
    "Xeus Communicates to the Jupyter server via ZMQ\n",
    "<p style=\"text-align: center\">\n",
    "    <img src=\"https://user-images.githubusercontent.com/904752/139082501-94e646e1-f852-4e50-bc8e-2d0f616216bf.png\" width=\"50%\">\n",
    "</p>\n",
    " \n",
    " "
   ]
  },
  {
   "cell_type": "markdown",
   "metadata": {},
   "source": [
    "<br><br><br><br><br><br><br><br><br><br><br><br><br><br><br><br><br><br><br><br><br><br><br><br><br><br><br><br><br><br><br><br><br><br><br><br>"
   ]
  },
  {
   "cell_type": "markdown",
   "metadata": {},
   "source": [
    "# Xeus-Lite\n",
    "\n",
    "<p style=\"text-align: center\">\n",
    "    <img src=\"https://user-images.githubusercontent.com/904752/139082502-5820be33-643e-4f44-be77-6a91612b7a0e.png\" width=\"70%\">\n",
    "</p>"
   ]
  },
  {
   "cell_type": "markdown",
   "metadata": {},
   "source": [
    "<br><br><br><br><br><br><br><br><br><br><br><br><br><br><br><br><br><br><br><br><br><br><br><br><br><br><br><br><br><br><br><br><br><br><br><br>"
   ]
  },
  {
   "cell_type": "markdown",
   "metadata": {},
   "source": [
    "<p style=\"text-align: center\">\n",
    "    <img src=\"https://user-images.githubusercontent.com/904752/139083264-4477844a-85b2-4fe6-b327-2d8bb21198dd.png\" width=\"40%\">\n",
    "</p>\n",
    "\n",
    "## ➡️ [Game of Life](./xeus-lua/game-of-life.ipynb)\n",
    "\n",
    "## ➡️ [Widgets](./xeus-lua/widgets.ipynb) \n",
    "\n",
    "<p style=\"text-align: center\">\n",
    "    <img src=\"https://user-images.githubusercontent.com/904752/139083933-bef20cf6-6322-4af0-b0c9-b4742285e751.gif\" width=\"40%\">\n",
    "</p>"
   ]
  },
  {
   "cell_type": "markdown",
   "metadata": {},
   "source": [
    "<br><br><br><br><br><br><br><br><br><br><br><br><br><br><br><br><br><br><br><br><br><br><br><br><br><br><br><br><br><br><br><br><br><br><br><br>"
   ]
  },
  {
   "cell_type": "markdown",
   "metadata": {},
   "source": [
    "<p style=\"text-align: center\">\n",
    "    <img src=\"https://user-images.githubusercontent.com/904752/139083268-8367c2dc-53fa-48f6-9fb0-b1d285392449.png\" width=\"40%\">\n",
    "</p>\n",
    "\n",
    "## ➡️ [iwren](./xeus-wren/iwren.ipynb)\n",
    "\n",
    "<p style=\"text-align: center\">\n",
    "    <img src=\"https://user-images.githubusercontent.com/904752/139083913-a19226dc-164d-4b66-8bc3-4efd8f046428.gif\" width=\"40%\">\n",
    "</p>"
   ]
  },
  {
   "cell_type": "markdown",
   "metadata": {},
   "source": [
    "<br><br><br><br><br><br><br><br><br><br><br><br><br><br><br><br><br><br><br><br><br><br><br><br><br><br><br><br><br><br><br><br><br><br><br><br>"
   ]
  },
  {
   "cell_type": "markdown",
   "metadata": {},
   "source": [
    "# Share Files Easily\n",
    "\n",
    "<p style=\"text-align: center\">\n",
    "    <img src=\"https://user-images.githubusercontent.com/591645/139148148-ce1ecb0e-1f1b-4d4d-ad1d-3f7200b1e7cc.png\" width=\"40%\">\n",
    "</p>"
   ]
  },
  {
   "cell_type": "markdown",
   "metadata": {},
   "source": [
    "<br><br><br><br><br><br><br><br><br><br><br><br><br><br><br><br><br><br><br><br><br><br><br><br><br><br><br><br><br><br><br><br><br><br><br><br>"
   ]
  },
  {
   "cell_type": "markdown",
   "metadata": {},
   "source": [
    "# Real Time Collaboration via WebRTC\n",
    "\n",
    "## PyData Global Presentation by Kevin Jahns: https://pydata.org/global2021/schedule/presentation/15/collaborative-editing-in-jupyter-notebook/\n",
    "\n",
    "<p style=\"text-align: center\">\n",
    "    <img src=\"https://user-images.githubusercontent.com/591645/139230390-c508fd73-fa66-4ae5-927c-1d85836b384e.png\" width=\"10%\">\n",
    "</p>\n",
    "\n",
    "\n",
    "<p style=\"text-align: center\">\n",
    "    <img src=\"https://user-images.githubusercontent.com/591645/120653630-2b3a5300-c481-11eb-8c66-eeaa3674cbb1.gif\" width=\"100%\">\n",
    "</p>"
   ]
  },
  {
   "cell_type": "markdown",
   "metadata": {},
   "source": [
    "<br><br><br><br><br><br><br><br><br><br><br><br><br><br><br><br><br><br><br><br><br><br><br><br><br><br><br><br><br><br><br><br><br><br><br><br>"
   ]
  },
  {
   "cell_type": "markdown",
   "metadata": {},
   "source": [
    "# The Jupyter(Lite) Server(Lite)\n",
    "\n",
    "- provides in-browser equivalents of much of `jupyter(lab)_server`\n",
    "- plugin-based Lumino application, _a la_ JupyterLab\n",
    "- customizable with pre-built _server extensions_\n",
    "  - new kernels\n",
    "  - different contents managers\n",
    "  - remote kernels\n",
    "\n",
    "<p style=\"text-align: center\">\n",
    "    <img src=\"https://user-images.githubusercontent.com/591645/120672355-858fdf80-c492-11eb-9613-67ad0411de25.png\" width=\"70%\">\n",
    "</p>"
   ]
  },
  {
   "cell_type": "markdown",
   "metadata": {},
   "source": [
    "<br><br><br><br><br><br><br><br><br><br><br><br><br><br><br><br><br><br><br><br><br><br><br><br><br><br><br><br><br><br><br><br><br><br><br><br>"
   ]
  },
  {
   "cell_type": "markdown",
   "metadata": {
    "tags": []
   },
   "source": [
    "# Use Cases"
   ]
  },
  {
   "cell_type": "markdown",
   "metadata": {},
   "source": [
    "<br><br><br><br><br><br><br><br><br><br><br><br><br><br><br><br><br><br><br><br><br><br><br><br><br><br><br><br><br><br><br><br><br><br><br><br>"
   ]
  },
  {
   "cell_type": "markdown",
   "metadata": {},
   "source": [
    "## Lightweight Jupyter Frontend running in the browser\n",
    "\n",
    "  - no server\n",
    "  - no command line\n",
    "  - no dependency management\n",
    "  \n",
    " "
   ]
  },
  {
   "cell_type": "markdown",
   "metadata": {},
   "source": [
    "<br><br><br><br><br><br><br><br><br><br><br><br><br><br><br><br><br><br><br><br><br><br><br><br><br><br><br><br><br><br><br><br><br><br><br><br>"
   ]
  },
  {
   "cell_type": "markdown",
   "metadata": {},
   "source": [
    "## Education\n",
    "\n",
    "### Easy access to computing environment without the trouble of installing anything\n",
    "\n",
    "From: https://twitter.com/DynamicWebPaige/status/1398346277038051335\n",
    "\n",
    "<p style=\"text-align: center\">\n",
    "    <img src=\"https://user-images.githubusercontent.com/591645/120650571-3475f080-c47e-11eb-8469-9cb93fb83e83.gif\" width=\"40%\">\n",
    "</p>"
   ]
  },
  {
   "cell_type": "markdown",
   "metadata": {},
   "source": [
    "<br><br><br><br><br><br><br><br><br><br><br><br><br><br><br><br><br><br><br><br><br><br><br><br><br><br><br><br><br><br><br><br><br><br><br><br>"
   ]
  },
  {
   "cell_type": "markdown",
   "metadata": {},
   "source": [
    "# Build your own static frontend\n",
    "\n",
    "Mockup from: https://github.com/jupyterlite/jupyterlite/issues/41#issue-857897393\n",
    "\n",
    "<p style=\"text-align: center\">\n",
    "    <img src=\"https://user-images.githubusercontent.com/591645/120650685-53748280-c47e-11eb-93ef-9aee53f7231c.png\" width=\"90%\">\n",
    "</p>"
   ]
  },
  {
   "cell_type": "markdown",
   "metadata": {},
   "source": [
    "<br><br><br><br><br><br><br><br><br><br><br><br><br><br><br><br><br><br><br><br><br><br><br><br><br><br><br><br><br><br><br><br><br><br><br><br>"
   ]
  },
  {
   "cell_type": "markdown",
   "metadata": {},
   "source": [
    "## p5 notebook\n",
    "\n",
    "### Repo: https://github.com/jtpio/p5-notebook\n",
    "\n",
    "### Try it on: https://p5nb.now.sh\n",
    "\n",
    "<p style=\"text-align: center\">\n",
    "    <img src=\"https://user-images.githubusercontent.com/591645/135836629-4fb3e6f7-fde5-41d7-bea7-7bd714c5f428.gif\" width=\"40%\">\n",
    "</p>\n",
    "\n",
    "## ipydrawio\n",
    "\n",
    "### Repo: https://github.com/deathbeds/ipydrawio\n",
    "\n",
    "### Try it on: https://ipydrawio.rtfd.io/\n",
    "\n",
    "<p style=\"text-align: center\">\n",
    "    <img src=\"https://user-images.githubusercontent.com/591645/139017584-07c1185e-13de-4d22-b924-8a6bfa888807.png\" width=\"40%\">\n",
    "</p>"
   ]
  },
  {
   "cell_type": "markdown",
   "metadata": {},
   "source": [
    "<br><br><br><br><br><br><br><br><br><br><br><br><br><br><br><br><br><br><br><br><br><br><br><br><br><br><br><br><br><br><br><br><br><br><br><br>"
   ]
  },
  {
   "cell_type": "markdown",
   "metadata": {},
   "source": [
    "# Deployment\n",
    "\n",
    "https://jupyterlite.readthedocs.io/en/latest/deploying.html\n",
    "\n",
    "<img width=256 src=\"https://user-images.githubusercontent.com/591645/120675034-00f29080-c495-11eb-928c-26bb94e8eb68.png\">\n",
    "\n",
    "---\n",
    "\n",
    "<img width=256 src=\"https://user-images.githubusercontent.com/591645/120676545-6dba5a80-c496-11eb-9b2b-604e92c3429b.png\">\n",
    "\n",
    "\n",
    "\n",
    "---\n",
    "\n",
    "<img width=256 src=\"https://user-images.githubusercontent.com/591645/120675516-6f375300-c495-11eb-819c-d6f1fb3cb0f1.png\">\n",
    "\n",
    "---\n",
    "\n",
    "<img width=256 src=\"https://user-images.githubusercontent.com/591645/120676108-03a1b580-c496-11eb-8990-ed30c7861376.png\">\n",
    "\n",
    "---\n",
    "\n",
    "<img width=256 src=\"https://user-images.githubusercontent.com/591645/120676313-2df37300-c496-11eb-8639-25e2fc606850.png\">\n",
    "\n",
    "And more: Netlify, nginx, Heroku..."
   ]
  },
  {
   "cell_type": "markdown",
   "metadata": {},
   "source": [
    "<br><br><br><br><br><br><br><br><br><br><br><br><br><br><br><br><br><br><br><br><br><br><br><br><br><br><br><br><br><br><br><br><br><br><br><br>"
   ]
  },
  {
   "cell_type": "markdown",
   "metadata": {},
   "source": [
    "# Up Next\n",
    "\n",
    "## - Improvements: tooling, RTC\n",
    "\n",
    "## - More xeus-based kernels\n",
    "\n",
    "## - Improved package management for WebAssembly with conda-forge\n",
    "\n",
    "## - More interactive documentation on ReadTheDocs (thebe, curvenote)\n",
    "\n",
    "## - Reduce the load on public services like mybinder.org?\n",
    "\n",
    "## - \"Voilite\": Voilà dashboards running in the browser"
   ]
  },
  {
   "cell_type": "markdown",
   "metadata": {},
   "source": [
    "<br><br><br><br><br><br><br><br><br><br><br><br><br><br><br><br><br><br><br><br><br><br><br><br><br><br><br><br><br><br><br><br><br><br><br><br>"
   ]
  },
  {
   "cell_type": "markdown",
   "metadata": {},
   "source": [
    "# Thanks!\n",
    "\n",
    "## Special thanks to all the contributors! ❤️"
   ]
  }
 ],
 "metadata": {
  "kernelspec": {
   "display_name": "Python 3 (ipykernel)",
   "language": "python",
   "name": "python3"
  },
  "language_info": {
   "codemirror_mode": {
    "name": "ipython",
    "version": 3
   },
   "file_extension": ".py",
   "mimetype": "text/x-python",
   "name": "python",
   "nbconvert_exporter": "python",
   "pygments_lexer": "ipython3",
   "version": "3.9.7"
  },
  "toc-showcode": false
 },
 "nbformat": 4,
 "nbformat_minor": 4
}
